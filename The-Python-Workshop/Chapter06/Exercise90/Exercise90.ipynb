{
 "cells": [
  {
   "cell_type": "code",
   "execution_count": 1,
   "metadata": {},
   "outputs": [],
   "source": [
    "import platform\n",
    "import os\n",
    "import sys"
   ]
  },
  {
   "cell_type": "code",
   "execution_count": 2,
   "metadata": {},
   "outputs": [
    {
     "name": "stdout",
     "output_type": "stream",
     "text": [
      "Process id: 3000\n",
      "Parent process id: 9088\n"
     ]
    }
   ],
   "source": [
    "print(\"Process id:\", os.getpid())\n",
    "print(\"Parent process id:\", os.getppid())"
   ]
  },
  {
   "cell_type": "code",
   "execution_count": 3,
   "metadata": {},
   "outputs": [
    {
     "name": "stdout",
     "output_type": "stream",
     "text": [
      "Machine network name: jarvis\n",
      "Python version: 3.7.4\n",
      "System: Windows\n"
     ]
    }
   ],
   "source": [
    "print(\"Machine network name:\", platform.node())\n",
    "print(\"Python version:\", platform.python_version())\n",
    "print(\"System:\", platform.system())"
   ]
  },
  {
   "cell_type": "code",
   "execution_count": 4,
   "metadata": {},
   "outputs": [
    {
     "name": "stdout",
     "output_type": "stream",
     "text": [
      "Python module lookup path: ['C:\\\\Users\\\\Ratan Singh\\\\Documents\\\\The-Python-Workshop\\\\Chapter06\\\\Exercise90', 'C:\\\\Users\\\\Ratan Singh\\\\Anaconda3\\\\python37.zip', 'C:\\\\Users\\\\Ratan Singh\\\\Anaconda3\\\\DLLs', 'C:\\\\Users\\\\Ratan Singh\\\\Anaconda3\\\\lib', 'C:\\\\Users\\\\Ratan Singh\\\\Anaconda3', '', 'C:\\\\Users\\\\Ratan Singh\\\\Anaconda3\\\\lib\\\\site-packages', 'C:\\\\Users\\\\Ratan Singh\\\\Anaconda3\\\\lib\\\\site-packages\\\\win32', 'C:\\\\Users\\\\Ratan Singh\\\\Anaconda3\\\\lib\\\\site-packages\\\\win32\\\\lib', 'C:\\\\Users\\\\Ratan Singh\\\\Anaconda3\\\\lib\\\\site-packages\\\\Pythonwin', 'C:\\\\Users\\\\Ratan Singh\\\\Anaconda3\\\\lib\\\\site-packages\\\\IPython\\\\extensions', 'C:\\\\Users\\\\Ratan Singh\\\\.ipython']\n",
      "Command to run Python: ['C:\\\\Users\\\\Ratan Singh\\\\Anaconda3\\\\lib\\\\site-packages\\\\ipykernel_launcher.py', '-f', 'C:\\\\Users\\\\Ratan Singh\\\\AppData\\\\Roaming\\\\jupyter\\\\runtime\\\\kernel-002131be-fb89-4565-b282-e25d2e5e68f9.json']\n"
     ]
    }
   ],
   "source": [
    "print(\"Python module lookup path:\", sys.path)\n",
    "print(\"Command to run Python:\", sys.argv)"
   ]
  },
  {
   "cell_type": "code",
   "execution_count": 5,
   "metadata": {},
   "outputs": [
    {
     "name": "stdout",
     "output_type": "stream",
     "text": [
      "USERNAME environment variable: Ratan Singh\n"
     ]
    }
   ],
   "source": [
    "print(\"USERNAME environment variable:\", os.environ[\"USERNAME\"])"
   ]
  },
  {
   "cell_type": "code",
   "execution_count": null,
   "metadata": {},
   "outputs": [],
   "source": []
  }
 ],
 "metadata": {
  "kernelspec": {
   "display_name": "Python 3",
   "language": "python",
   "name": "python3"
  },
  "language_info": {
   "codemirror_mode": {
    "name": "ipython",
    "version": 3
   },
   "file_extension": ".py",
   "mimetype": "text/x-python",
   "name": "python",
   "nbconvert_exporter": "python",
   "pygments_lexer": "ipython3",
   "version": "3.7.4"
  }
 },
 "nbformat": 4,
 "nbformat_minor": 2
}
