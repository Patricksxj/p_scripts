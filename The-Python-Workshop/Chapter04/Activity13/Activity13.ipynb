{
 "cells": [
  {
   "cell_type": "code",
   "execution_count": 1,
   "metadata": {},
   "outputs": [],
   "source": [
    "import csv\n",
    "\n",
    "lines = []\n",
    "\n",
    "with open('titanic_train.csv') as csv_file:\n",
    "    csv_reader = csv.reader(csv_file, delimiter=',')\n",
    "    for line in csv_reader:\n",
    "        lines.append(line)"
   ]
  },
  {
   "cell_type": "code",
   "execution_count": 2,
   "metadata": {},
   "outputs": [],
   "source": [
    "data = lines[1:]\n",
    "passengers = []\n",
    "headers = lines[0]\n",
    "\n",
    "for d in data:\n",
    "    p = {}\n",
    "    for i in range(0,len(headers)):\n",
    "        key = headers[i]\n",
    "        value = d[i]\n",
    "        p[key] = value\n",
    "    passengers.append(p)"
   ]
  },
  {
   "cell_type": "code",
   "execution_count": 3,
   "metadata": {},
   "outputs": [],
   "source": [
    "survived = [p['Survived'] for p in passengers]\n",
    "pclass = [p['Pclass'] for p in passengers]\n",
    "age = [float(p['Age']) for p in passengers if p['Age'] != '']\n",
    "gender_survived = [p['Sex'] for p in passengers if int(p['Survived']) == 1]"
   ]
  },
  {
   "cell_type": "code",
   "execution_count": 5,
   "metadata": {},
   "outputs": [
    {
     "data": {
      "image/png": "[encoded data removed]",
      "text/plain": [
       "<Figure size 432x288 with 1 Axes>"
      ]
     },
     "metadata": {},
     "output_type": "display_data"
    }
   ],
   "source": [
    "import matplotlib.pyplot as plt\n",
    "from collections import Counter\n",
    "\n",
    "plt.title(\"Survived\")\n",
    "plt.pie(Counter(survived).values(), labels=Counter(survived).keys(), autopct='%1.1f%%', \n",
    "        colors=['lightblue', 'lightgreen'])\n",
    "plt.show()"
   ]
  },
  {
   "cell_type": "code",
   "execution_count": 7,
   "metadata": {},
   "outputs": [
    {
     "data": {
      "image/png": "[encoded data removed]",
      "text/plain": [
       "<Figure size 432x288 with 1 Axes>"
      ]
     },
     "metadata": {
      "needs_background": "light"
     },
     "output_type": "display_data"
    }
   ],
   "source": [
    "plt.title(\"surviving passengers count by gender\")\n",
    "plt.bar(Counter(gender_survived).keys(), Counter(gender_survived).values())\n",
    "plt.show()"
   ]
  },
  {
   "cell_type": "code",
   "execution_count": null,
   "metadata": {},
   "outputs": [],
   "source": []
  }
 ],
 "metadata": {
  "kernelspec": {
   "display_name": "Python 3",
   "language": "python",
   "name": "python3"
  },
  "language_info": {
   "codemirror_mode": {
    "name": "ipython",
    "version": 3
   },
   "file_extension": ".py",
   "mimetype": "text/x-python",
   "name": "python",
   "nbconvert_exporter": "python",
   "pygments_lexer": "ipython3",
   "version": "3.7.4"
  }
 },
 "nbformat": 4,
 "nbformat_minor": 2
}
