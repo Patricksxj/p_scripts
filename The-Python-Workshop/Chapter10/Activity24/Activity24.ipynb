{
 "cells": [
  {
   "cell_type": "code",
   "execution_count": 1,
   "metadata": {},
   "outputs": [],
   "source": [
    "import pandas as pd\n",
    "import matplotlib.pyplot as plt\n",
    "%matplotlib inline\n",
    "import seaborn as sns\n",
    "# Set up seaborn dark grid\n",
    "sns.set()"
   ]
  },
  {
   "cell_type": "code",
   "execution_count": 2,
   "metadata": {},
   "outputs": [],
   "source": [
    "statistics_df = pd.read_csv('UKStatistics.csv')"
   ]
  },
  {
   "cell_type": "code",
   "execution_count": 3,
   "metadata": {},
   "outputs": [
    {
     "data": {
      "text/html": [
       "<div>\n",
       "<style scoped>\n",
       "    .dataframe tbody tr th:only-of-type {\n",
       "        vertical-align: middle;\n",
       "    }\n",
       "\n",
       "    .dataframe tbody tr th {\n",
       "        vertical-align: top;\n",
       "    }\n",
       "\n",
       "    .dataframe thead th {\n",
       "        text-align: right;\n",
       "    }\n",
       "</style>\n",
       "<table border=\"1\" class=\"dataframe\">\n",
       "  <thead>\n",
       "    <tr style=\"text-align: right;\">\n",
       "      <th></th>\n",
       "      <th>Post Unique Reference</th>\n",
       "      <th>Name</th>\n",
       "      <th>Grade (or equivalent)</th>\n",
       "      <th>Job Title</th>\n",
       "      <th>Job/Team Function</th>\n",
       "      <th>Parent Department</th>\n",
       "      <th>Organisation</th>\n",
       "      <th>Unit</th>\n",
       "      <th>Contact Phone</th>\n",
       "      <th>Contact E-mail</th>\n",
       "      <th>Reports to Senior Post</th>\n",
       "      <th>Salary Cost of Reports (£)</th>\n",
       "      <th>FTE</th>\n",
       "      <th>Actual Pay Floor (£)</th>\n",
       "      <th>Actual Pay Ceiling (£)</th>\n",
       "      <th>Unnamed: 15</th>\n",
       "      <th>Professional/Occupational Group</th>\n",
       "      <th>Notes</th>\n",
       "      <th>Valid?</th>\n",
       "    </tr>\n",
       "  </thead>\n",
       "  <tbody>\n",
       "    <tr>\n",
       "      <th>0</th>\n",
       "      <td>1</td>\n",
       "      <td>John Pullinger</td>\n",
       "      <td>SCS4</td>\n",
       "      <td>Permanent Secretary</td>\n",
       "      <td>National Statistician, Head of GSS</td>\n",
       "      <td>UK Statistics Authority</td>\n",
       "      <td>UK Statistics Authority</td>\n",
       "      <td>UK Statistics Authority</td>\n",
       "      <td>01633 455036</td>\n",
       "      <td>national.statistician@statistics.gsi.gov.uk</td>\n",
       "      <td>Board</td>\n",
       "      <td>0</td>\n",
       "      <td>1.0</td>\n",
       "      <td>150000</td>\n",
       "      <td>154999</td>\n",
       "      <td>NaN</td>\n",
       "      <td>Statisticians</td>\n",
       "      <td>The National Statistician is the Permanent Sec...</td>\n",
       "      <td>1</td>\n",
       "    </tr>\n",
       "    <tr>\n",
       "      <th>1</th>\n",
       "      <td>2</td>\n",
       "      <td>Glen Watson</td>\n",
       "      <td>SCS3</td>\n",
       "      <td>Director General</td>\n",
       "      <td>Head Of ONS</td>\n",
       "      <td>UK Statistics Authority</td>\n",
       "      <td>UK Statistics Authority</td>\n",
       "      <td>Office For National Statistics</td>\n",
       "      <td>0845 601 3034</td>\n",
       "      <td>info@statistics.gov.uk</td>\n",
       "      <td>1</td>\n",
       "      <td>322572</td>\n",
       "      <td>1.0</td>\n",
       "      <td>105000</td>\n",
       "      <td>109999</td>\n",
       "      <td>NaN</td>\n",
       "      <td>Statisticians</td>\n",
       "      <td>NaN</td>\n",
       "      <td>1</td>\n",
       "    </tr>\n",
       "    <tr>\n",
       "      <th>2</th>\n",
       "      <td>4</td>\n",
       "      <td>Nick Vaughan</td>\n",
       "      <td>SCS2</td>\n",
       "      <td>Director</td>\n",
       "      <td>Production of statistical outputs from Nationa...</td>\n",
       "      <td>UK Statistics Authority</td>\n",
       "      <td>UK Statistics Authority</td>\n",
       "      <td>National Accounts &amp; Ecomonic Statistics</td>\n",
       "      <td>0845 601 3034</td>\n",
       "      <td>info@statistics.gov.uk</td>\n",
       "      <td>2</td>\n",
       "      <td>2033352</td>\n",
       "      <td>1.0</td>\n",
       "      <td>85000</td>\n",
       "      <td>89999</td>\n",
       "      <td>NaN</td>\n",
       "      <td>Statisticians</td>\n",
       "      <td>New to post replaces Caren Walker</td>\n",
       "      <td>1</td>\n",
       "    </tr>\n",
       "    <tr>\n",
       "      <th>3</th>\n",
       "      <td>5</td>\n",
       "      <td>Ian Cope</td>\n",
       "      <td>SCS2</td>\n",
       "      <td>Director</td>\n",
       "      <td>Population and Demography</td>\n",
       "      <td>UK Statistics Authority</td>\n",
       "      <td>UK Statistics Authority</td>\n",
       "      <td>Population and Demography</td>\n",
       "      <td>0845 601 3034</td>\n",
       "      <td>info@statistics.gov.uk</td>\n",
       "      <td>2</td>\n",
       "      <td>1352600</td>\n",
       "      <td>1.0</td>\n",
       "      <td>90000</td>\n",
       "      <td>94999</td>\n",
       "      <td>NaN</td>\n",
       "      <td>Statisticians</td>\n",
       "      <td>NaN</td>\n",
       "      <td>1</td>\n",
       "    </tr>\n",
       "    <tr>\n",
       "      <th>4</th>\n",
       "      <td>6</td>\n",
       "      <td>Guy Goodwin</td>\n",
       "      <td>SCS2</td>\n",
       "      <td>Director</td>\n",
       "      <td>Analysis and Dissemination</td>\n",
       "      <td>UK Statistics Authority</td>\n",
       "      <td>UK Statistics Authority</td>\n",
       "      <td>Analysis and Dissemination</td>\n",
       "      <td>0845 601 3034</td>\n",
       "      <td>info@statistics.gov.uk</td>\n",
       "      <td>2</td>\n",
       "      <td>0</td>\n",
       "      <td>1.0</td>\n",
       "      <td>85000</td>\n",
       "      <td>89999</td>\n",
       "      <td>NaN</td>\n",
       "      <td>Statisticians</td>\n",
       "      <td>Salary costs not disclosed - Less than 5 staff...</td>\n",
       "      <td>1</td>\n",
       "    </tr>\n",
       "  </tbody>\n",
       "</table>\n",
       "</div>"
      ],
      "text/plain": [
       "  Post Unique Reference            Name Grade (or equivalent)  \\\n",
       "0                     1  John Pullinger                  SCS4   \n",
       "1                     2     Glen Watson                  SCS3   \n",
       "2                     4    Nick Vaughan                  SCS2   \n",
       "3                     5        Ian Cope                  SCS2   \n",
       "4                     6     Guy Goodwin                  SCS2   \n",
       "\n",
       "             Job Title                                  Job/Team Function  \\\n",
       "0  Permanent Secretary                 National Statistician, Head of GSS   \n",
       "1     Director General                                        Head Of ONS   \n",
       "2             Director  Production of statistical outputs from Nationa...   \n",
       "3             Director                          Population and Demography   \n",
       "4             Director                         Analysis and Dissemination   \n",
       "\n",
       "         Parent Department             Organisation  \\\n",
       "0  UK Statistics Authority  UK Statistics Authority   \n",
       "1  UK Statistics Authority  UK Statistics Authority   \n",
       "2  UK Statistics Authority  UK Statistics Authority   \n",
       "3  UK Statistics Authority  UK Statistics Authority   \n",
       "4  UK Statistics Authority  UK Statistics Authority   \n",
       "\n",
       "                                      Unit  Contact Phone  \\\n",
       "0                  UK Statistics Authority   01633 455036   \n",
       "1           Office For National Statistics  0845 601 3034   \n",
       "2  National Accounts & Ecomonic Statistics  0845 601 3034   \n",
       "3                Population and Demography  0845 601 3034   \n",
       "4               Analysis and Dissemination  0845 601 3034   \n",
       "\n",
       "                                Contact E-mail Reports to Senior Post  \\\n",
       "0  national.statistician@statistics.gsi.gov.uk                  Board   \n",
       "1                       info@statistics.gov.uk                      1   \n",
       "2                       info@statistics.gov.uk                      2   \n",
       "3                       info@statistics.gov.uk                      2   \n",
       "4                       info@statistics.gov.uk                      2   \n",
       "\n",
       "   Salary Cost of Reports (£)  FTE  Actual Pay Floor (£)  \\\n",
       "0                           0  1.0                150000   \n",
       "1                      322572  1.0                105000   \n",
       "2                     2033352  1.0                 85000   \n",
       "3                     1352600  1.0                 90000   \n",
       "4                           0  1.0                 85000   \n",
       "\n",
       "   Actual Pay Ceiling (£)  Unnamed: 15 Professional/Occupational Group  \\\n",
       "0                  154999          NaN                   Statisticians   \n",
       "1                  109999          NaN                   Statisticians   \n",
       "2                   89999          NaN                   Statisticians   \n",
       "3                   94999          NaN                   Statisticians   \n",
       "4                   89999          NaN                   Statisticians   \n",
       "\n",
       "                                               Notes  Valid?  \n",
       "0  The National Statistician is the Permanent Sec...       1  \n",
       "1                                                NaN       1  \n",
       "2                  New to post replaces Caren Walker       1  \n",
       "3                                                NaN       1  \n",
       "4  Salary costs not disclosed - Less than 5 staff...       1  "
      ]
     },
     "execution_count": 3,
     "metadata": {},
     "output_type": "execute_result"
    }
   ],
   "source": [
    "statistics_df.head()"
   ]
  },
  {
   "cell_type": "code",
   "execution_count": 4,
   "metadata": {},
   "outputs": [
    {
     "data": {
      "text/plain": [
       "(51, 19)"
      ]
     },
     "execution_count": 4,
     "metadata": {},
     "output_type": "execute_result"
    }
   ],
   "source": [
    "statistics_df.shape"
   ]
  },
  {
   "cell_type": "code",
   "execution_count": 5,
   "metadata": {},
   "outputs": [
    {
     "data": {
      "image/png": "[encoded data removed]",
      "text/plain": [
       "<Figure size 432x288 with 1 Axes>"
      ]
     },
     "metadata": {},
     "output_type": "display_data"
    }
   ],
   "source": [
    "plt.hist(statistics_df['Actual Pay Floor (£)'])\n",
    "plt.show()"
   ]
  },
  {
   "cell_type": "code",
   "execution_count": 6,
   "metadata": {},
   "outputs": [
    {
     "data": {
      "image/png": "[encoded data removed]",
      "text/plain": [
       "<Figure size 432x288 with 1 Axes>"
      ]
     },
     "metadata": {},
     "output_type": "display_data"
    }
   ],
   "source": [
    "x = statistics_df['Salary Cost of Reports (£)']\n",
    "y = statistics_df['Actual Pay Floor (£)']\n",
    "plt.scatter(x, y) \n",
    "plt.show()"
   ]
  },
  {
   "cell_type": "code",
   "execution_count": 7,
   "metadata": {},
   "outputs": [],
   "source": [
    "x = statistics_df['Salary Cost of Reports (£)']\n",
    "y = statistics_df['Actual Pay Floor (£)']"
   ]
  },
  {
   "cell_type": "code",
   "execution_count": 9,
   "metadata": {},
   "outputs": [
    {
     "data": {
      "image/png": "[encoded data removed]",
      "text/plain": [
       "<Figure size 432x288 with 1 Axes>"
      ]
     },
     "metadata": {},
     "output_type": "display_data"
    }
   ],
   "source": [
    "plt.violinplot(x)\n",
    "plt.show()"
   ]
  },
  {
   "cell_type": "code",
   "execution_count": 23,
   "metadata": {
    "scrolled": true
   },
   "outputs": [
    {
     "data": {
      "image/png": "[encoded data removed]",
      "text/plain": [
       "<Figure size 432x288 with 1 Axes>"
      ]
     },
     "metadata": {
      "needs_background": "light"
     },
     "output_type": "display_data"
    }
   ],
   "source": [
    "plt.boxplot(x)\n",
    "plt.show()"
   ]
  },
  {
   "cell_type": "code",
   "execution_count": null,
   "metadata": {},
   "outputs": [],
   "source": []
  }
 ],
 "metadata": {
  "kernelspec": {
   "display_name": "Python 3",
   "language": "python",
   "name": "python3"
  },
  "language_info": {
   "codemirror_mode": {
    "name": "ipython",
    "version": 3
   },
   "file_extension": ".py",
   "mimetype": "text/x-python",
   "name": "python",
   "nbconvert_exporter": "python",
   "pygments_lexer": "ipython3",
   "version": "3.7.4"
  }
 },
 "nbformat": 4,
 "nbformat_minor": 2
}
